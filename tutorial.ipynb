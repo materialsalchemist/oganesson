{
 "cells": [
  {
   "cell_type": "code",
   "execution_count": null,
   "metadata": {},
   "outputs": [],
   "source": [
    "from oganesson.descriptors import BACD, SymmetryFunctions, DScribeSOAP, DScribeSineMatrix\n",
    "from oganesson.ogstructure import OgStructure\n",
    "\n",
    "\n",
    "bacd = BACD(OgStructure(file_name='examples/structures/mp-541001_LiInI4.cif'))\n",
    "bacd.describe()\n",
    "\n",
    "sf = DScribeSineMatrix(OgStructure(file_name='examples/structures/mp-541001_LiInI4.cif'))\n",
    "sf.describe()\n"
   ]
  },
  {
   "cell_type": "code",
   "execution_count": null,
   "metadata": {},
   "outputs": [],
   "source": [
    "sf.dscribe.create()"
   ]
  },
  {
   "cell_type": "code",
   "execution_count": null,
   "metadata": {},
   "outputs": [],
   "source": [
    "from dscribe.descriptors import SOAP\n",
    "from ase.build import molecule\n",
    "\n",
    "species = [\"H\", \"C\", \"O\", \"N\"]\n",
    "rcut = 6.0\n",
    "nmax = 8\n",
    "lmax = 6\n",
    "\n",
    "# Setting up the SOAP descriptor\n",
    "soap = SOAP(\n",
    "    species=species,\n",
    "    periodic=False,\n",
    "    rcut=rcut,\n",
    "    nmax=nmax,\n",
    "    lmax=lmax,\n",
    ")\n",
    "water = molecule(\"H2O\")\n",
    "\n",
    "# Create SOAP output for the system\n",
    "soap_water = soap.create(water, positions=[0])\n"
   ]
  },
  {
   "cell_type": "code",
   "execution_count": null,
   "metadata": {},
   "outputs": [],
   "source": [
    "from oganesson.descriptors import BACD, Describe\n",
    "# from oganesson.descriptors import DScribeSOAP, DscribeACSF\n",
    "from oganesson.ogstructure import OgStructure\n",
    "\n",
    "bacd = BACD(OgStructure(file_name='examples/structures/Li3PO4_mp-13725.cif'))\n",
    "print(bacd.describe())\n",
    "# soap = DScribeSOAP(OgStructure(file_name='examples/structures/Li3PO4_mp-13725.cif'))\n",
    "# acsf = DscribeACSF(OgStructure(file_name='examples/structures/Li3PO4_mp-13725.cif'))\n",
    "\n",
    "print(Describe.describe(OgStructure(file_name='examples/structures/Li3PO4_mp-13725.cif'),BACD))"
   ]
  },
  {
   "cell_type": "code",
   "execution_count": null,
   "metadata": {},
   "outputs": [],
   "source": []
  },
  {
   "cell_type": "code",
   "execution_count": null,
   "metadata": {},
   "outputs": [],
   "source": [
    "from oganesson.ogstructure import OgStructure\n",
    "\n",
    "og=OgStructure(file_name='examples/structures/MoS2.vasp')\n",
    "og.add_atom_to_surface('Li').structure.to('MoS2_Li.vasp','poscar')"
   ]
  },
  {
   "cell_type": "code",
   "execution_count": null,
   "metadata": {},
   "outputs": [],
   "source": [
    "from oganesson.ogstructure import OgStructure\n",
    "og = OgStructure(file_name='examples/structures/Li3PO4_mp-13725.cif')\n",
    "og.generate_neb('Li', r=3)\n"
   ]
  },
  {
   "cell_type": "code",
   "execution_count": null,
   "metadata": {},
   "outputs": [],
   "source": [
    "## Generation of machine learning datasets"
   ]
  },
  {
   "cell_type": "code",
   "execution_count": null,
   "metadata": {},
   "outputs": [],
   "source": [
    "import requests\n",
    "from oganesson.descriptors import Describe, BACD\n",
    "from oganesson.ogstructure import OgStructure\n",
    "from pymatgen.core.structure import Structure\n",
    "from joltml import Experiment, Xgboost, Sklearn\n",
    "import pandas as pd\n",
    "\n",
    "headers = {\n",
    "    'accept': 'application/json',\n",
    "    'X-API-KEY': 'iGRUQOIQAcPMw00QWQKIEegfhF8O7Gmm'\n",
    "}\n",
    "materials_summary = requests.get('https://api.materialsproject.org/materials/summary/?formula=ABO3&deprecated=false&_per_page=1000&_skip=0&_limit=1000&_all_fields=true&is_stable=true', headers=headers)\n",
    "materials_summary = materials_summary.json()['data']\n",
    "datasets = {'material_ids':[],'structures':[],'bacd':[],'formation_energy_per_atom':[]}\n",
    "for material in materials_summary:\n",
    "    structure = OgStructure(Structure.from_dict(material['structure']))\n",
    "    datasets['material_ids'] += [material['material_id']]\n",
    "    datasets['structures'] += [structure]\n",
    "    datasets['bacd'] += [Describe.describe(structure,descriptor=BACD)]\n",
    "    datasets['formation_energy_per_atom'] += [material['formation_energy_per_atom']]\n"
   ]
  },
  {
   "cell_type": "code",
   "execution_count": null,
   "metadata": {},
   "outputs": [],
   "source": [
    "\n",
    "import numpy as np\n",
    "training_set = pd.DataFrame(datasets['bacd'])\n",
    "experiment = Experiment(training_set.iloc[:800])\n",
    "y = experiment.add_models([Xgboost()]).regression(targets=pd.DataFrame(datasets['formation_energy_per_atom'][:800]), splits=[0.8,0.2]).predict(training_set.iloc[:800])\n",
    "\n"
   ]
  },
  {
   "cell_type": "code",
   "execution_count": null,
   "metadata": {},
   "outputs": [],
   "source": [
    "\n",
    "# Test sensitivity of descriptors\n",
    "\n",
    "# Test translational and rotational symmetry of descriptors\n"
   ]
  },
  {
   "cell_type": "code",
   "execution_count": null,
   "metadata": {},
   "outputs": [],
   "source": [
    "from oganesson.descriptors import BACD\n",
    "from oganesson.ogstructure import OgStructure\n",
    "bacd = BACD(OgStructure(file_name='examples/structures/Li3PO4_mp-13725.cif'))\n",
    "print(bacd.is_invariant())"
   ]
  },
  {
   "attachments": {},
   "cell_type": "markdown",
   "metadata": {},
   "source": [
    "## Performing AIMD simulations\n",
    "\n",
    "Here we apply a lithium-rich material, Li3PO4, to a temperature of 1000 K, and then calculate the diffusivities of the three elements."
   ]
  },
  {
   "cell_type": "code",
   "execution_count": 1,
   "metadata": {},
   "outputs": [
    {
     "name": "stdout",
     "output_type": "stream",
     "text": [
      "GPAW is not installed, and therefore you cannot use the ROSA descriptors.\n",
      "DScribe is not installed, and therefore you cannot use the DScribe descriptors.\n",
      "WARNING:tensorflow:You are casting an input of type complex64 to an incompatible dtype float32.  This will discard the imaginary part and may not be what you intended.\n",
      "WARNING:tensorflow:You are casting an input of type complex64 to an incompatible dtype float32.  This will discard the imaginary part and may not be what you intended.\n",
      "WARNING:tensorflow:You are casting an input of type complex64 to an incompatible dtype float32.  This will discard the imaginary part and may not be what you intended.\n",
      "WARNING:tensorflow:You are casting an input of type complex64 to an incompatible dtype float32.  This will discard the imaginary part and may not be what you intended.\n",
      "WARNING:tensorflow:You are casting an input of type complex64 to an incompatible dtype float32.  This will discard the imaginary part and may not be what you intended.\n",
      "Plotting MSD using 1002 images\n",
      "Diffusion coefficients: ([8.929355972110487e-05, -6.759250973865885e-07, 4.638191265231533e-06, 1.2941813343037413e-05], [0.0, 0.0, 0.0, 1.6940658945086007e-21])\n"
     ]
    },
    {
     "data": {
      "text/plain": [
       "<Figure size 1500x1000 with 0 Axes>"
      ]
     },
     "metadata": {},
     "output_type": "display_data"
    }
   ],
   "source": [
    "from oganesson.ogstructure import OgStructure\n",
    "structure = OgStructure(file_name='examples/structures/LGPS_ChemMater_2018_30_4995_Opt.cif')\n",
    "structure.simulate(temperature=1000,steps=1000,loginterval=1)\n",
    "coeffs = structure.calculate_diffusivity()\n",
    "print('Diffusion coefficients:', coeffs)\n"
   ]
  },
  {
   "cell_type": "code",
   "execution_count": null,
   "metadata": {},
   "outputs": [],
   "source": []
  }
 ],
 "metadata": {
  "kernelspec": {
   "display_name": "Python 3",
   "language": "python",
   "name": "python3"
  },
  "language_info": {
   "codemirror_mode": {
    "name": "ipython",
    "version": 3
   },
   "file_extension": ".py",
   "mimetype": "text/x-python",
   "name": "python",
   "nbconvert_exporter": "python",
   "pygments_lexer": "ipython3",
   "version": "3.11.3"
  },
  "orig_nbformat": 4
 },
 "nbformat": 4,
 "nbformat_minor": 2
}
