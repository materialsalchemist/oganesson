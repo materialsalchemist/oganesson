{
 "cells": [
  {
   "attachments": {},
   "cell_type": "markdown",
   "metadata": {},
   "source": [
    "# `oganesson` tutorial\n",
    "\n",
    "`oganesson` helps material scientists generate, modify, analyze and featurize structures, create structure datasets, create nudged elastic bands diffusion pathways along with `VASP` input files, and evolve structures using ML structure optimizers.\n",
    "\n",
    "## Structural manipulation and preparation"
   ]
  },
  {
   "cell_type": "markdown",
   "metadata": {},
   "source": [
    "The `OgStructure` class enables you to do various structure manuipulation operations:\n",
    "\n",
    "- You can adsorb an atom on a surface by simply calling the `add_atom_to_surface(atom)`:"
   ]
  },
  {
   "cell_type": "code",
   "execution_count": null,
   "metadata": {},
   "outputs": [],
   "source": [
    "from oganesson.ogstructure import OgStructure\n",
    "\n",
    "og=OgStructure(file_name='examples/structures/MoS2.vasp')\n",
    "og.add_atom_to_surface('Li').structure.to('MoS2_Li.vasp','poscar')"
   ]
  },
  {
   "cell_type": "markdown",
   "metadata": {},
   "source": [
    "- You can scan for multiple adsorption positions on a surface by using the `adsorption_scanner(atom)` method:"
   ]
  },
  {
   "cell_type": "code",
   "execution_count": null,
   "metadata": {},
   "outputs": [],
   "source": [
    "from oganesson.ogstructure import OgStructure\n",
    "from ase.build import surface\n",
    "s = surface('Au', (1, 1, 1), 9)\n",
    "s.center(vacuum=10, axis=2)\n",
    "\n",
    "og=OgStructure(s)\n",
    "og.add_atom_to_surface('O').structure.to('Au_O.cif','poscar')\n",
    "\n",
    "og=OgStructure(s)\n",
    "ad_structures = og.adsorption_scanner('O')\n",
    "counter = 0\n",
    "for s in ad_structures:\n",
    "    counter += 1\n",
    "    s().to(str(counter) + '.cif','poscar')"
   ]
  },
  {
   "cell_type": "markdown",
   "metadata": {},
   "source": [
    "- You can add an interstitial defect to a structure by calling the `add_interstitial(atom)`:"
   ]
  },
  {
   "cell_type": "code",
   "execution_count": null,
   "metadata": {},
   "outputs": [],
   "source": [
    "s = OgStructure(file_name='examples/structures/Li3PO4_mp-13725.cif')\n",
    "s.add_interstitial('H')().to('H_interstitial.cif','cif')"
   ]
  },
  {
   "cell_type": "markdown",
   "metadata": {},
   "source": [
    "- You can generate the entire VASP input POSCARs for the NEB diffusion pathway of an atom in the structure:"
   ]
  },
  {
   "cell_type": "code",
   "execution_count": null,
   "metadata": {},
   "outputs": [],
   "source": [
    "from oganesson.ogstructure import OgStructure\n",
    "og = OgStructure(file_name='examples/structures/Li3PO4_mp-13725.cif')\n",
    "og.generate_neb('Li', r=3)\n"
   ]
  },
  {
   "cell_type": "markdown",
   "metadata": {},
   "source": [
    "- To generate an alloy supercell with multiple components based on a template supercell, you can use the `substitutions_random()` method to randomly replace the atom in the supercell with other atoms at specific proportions."
   ]
  },
  {
   "cell_type": "code",
   "execution_count": null,
   "metadata": {},
   "outputs": [],
   "source": [
    "from oganesson.genetic_algorithms import GA\n",
    "from oganesson.ogstructure import OgStructure\n",
    "from ase.build import bulk\n",
    "\n",
    "Cu = bulk('Cu', 'fcc', a=3.6)\n",
    "structure = OgStructure(Cu.repeat([4,4,4]))\n",
    "structure.substitutions_random('Cu',{'Al':16, 'Cr':16, 'Ti':16, 'V':16})\n",
    "structure()"
   ]
  },
  {
   "cell_type": "markdown",
   "metadata": {},
   "source": [
    "- To extract dynamics data from VASP OUTCAR files, there is an option to rely only on the available `OUTCAR` file, with the assumption that the first line of the `POSCAR` in the calculation had the correct assignment of species, and that there was not too many of them. However, it is better to obtain the species from the `POSCAR` file used in the calculation. So typically, one should provide both files to the `Outcar` class using the `poscar_file` parameter in the constructor."
   ]
  },
  {
   "cell_type": "code",
   "execution_count": null,
   "metadata": {},
   "outputs": [],
   "source": [
    "from oganesson.io.vasp import Outcar\n",
    "\n",
    "outcar = Outcar('examples/')\n",
    "outcar.write_md_data()"
   ]
  },
  {
   "cell_type": "markdown",
   "metadata": {},
   "source": [
    "A very handy method in OgStructure is the `create_ripple()` method that enables you to generate a sinusoidal 2D structure if your `OgStructure` is the unit cell of a 2D material. The argument `strain` lets you specify how much lateral strain is applied to the sheet that will force it to buckle.\n",
    "\n",
    "If you run `create_ripple()` with `relax=False`, it will generate a quick wave structure by moving the atoms to positions along a sine graph. This can be OK for flat 2D materials like graphene, but not for buckled ones like MoS2. In the latter case, it is better to call `create_ripple()` with `relax=True`. This will trigger the relaxation of intermediate structures using the m3gnet optimizer. You can set the number of intermediate structures via the argument `steps`.\n",
    "\n",
    "If you want to observe the intermediate structures, you can set `write_intermediate=True`."
   ]
  },
  {
   "cell_type": "code",
   "execution_count": null,
   "metadata": {},
   "outputs": [],
   "source": [
    "from oganesson.ogstructure import OgStructure\n",
    "\n",
    "MoS2 = OgStructure(file_name='examples/structures/MoS2.vasp')\n",
    "MoS2 = MoS2.create_ripple(axis='x',units=30,strain=0.8,steps=10,relax=True)\n",
    "MoS2().to('MoS2ripple_relaxed.cif')"
   ]
  },
  {
   "cell_type": "markdown",
   "metadata": {},
   "source": [
    "## Calculation of the structural properties\n",
    "\n",
    "- You can obtain the radial distribution fuction (RDF) using the `rdf()` function, which is borrowed from the ASE library."
   ]
  },
  {
   "cell_type": "code",
   "execution_count": null,
   "metadata": {},
   "outputs": [],
   "source": [
    "from oganesson.ogstructure import OgStructure\n",
    "from ase.build import bulk\n",
    "\n",
    "Cu = bulk('Cu', 'fcc', a=3.6)\n",
    "structure = OgStructure(Cu.repeat([4,4,4]))\n",
    "structure.substitutions_random('Cu',{'Al':16, 'Cr':16, 'Ti':16, 'V':16})\n",
    "print(structure.get_rdf(rmax=4,nbins=100,elements=[13,13])[0])"
   ]
  },
  {
   "cell_type": "markdown",
   "metadata": {},
   "source": [
    "- You can plot the simulated XRD for your structure using the `xrd()` function."
   ]
  },
  {
   "cell_type": "code",
   "execution_count": null,
   "metadata": {},
   "outputs": [],
   "source": [
    "from oganesson.ogstructure import OgStructure\n",
    "from ase.build import bulk\n",
    "\n",
    "Cu = bulk('Cu', 'fcc', a=3.6)\n",
    "structure = OgStructure(Cu.repeat([4,4,4]))\n",
    "structure.substitutions_random('Cu',{'Al':16, 'Cr':16, 'Ti':16, 'V':16})\n",
    "structure.xrd()"
   ]
  },
  {
   "attachments": {},
   "cell_type": "markdown",
   "metadata": {},
   "source": [
    "# Machine learning\n",
    "\n",
    "`oganesson` supports machine learning workflows by providing quick and easy tools to generate machine learning descriptors for materials.\n",
    "\n",
    "## Machine learning descriptors\n",
    "\n",
    "The following demonstrates how to convert a `CIF` file to a descriptor vector using the `BACD` descriptors and the `SineMatrix` features from `DScribe`:"
   ]
  },
  {
   "cell_type": "code",
   "execution_count": null,
   "metadata": {},
   "outputs": [],
   "source": [
    "from oganesson.descriptors import BACD, DScribeSineMatrix\n",
    "from oganesson.ogstructure import OgStructure\n",
    "\n",
    "\n",
    "bacd = BACD(OgStructure(file_name='examples/structures/Li3PO4_mp-13725.cif'))\n",
    "print(bacd.describe())\n",
    "\n",
    "sf = DScribeSineMatrix(OgStructure(file_name='examples/structures/Li3PO4_mp-13725.cif'))\n",
    "print(sf.describe())\n"
   ]
  },
  {
   "cell_type": "code",
   "execution_count": null,
   "metadata": {},
   "outputs": [],
   "source": [
    "from oganesson.descriptors import BACD\n",
    "from oganesson.ogstructure import OgStructure\n",
    "bacd = BACD(OgStructure(file_name='examples/structures/Li3PO4_mp-13725.cif'))\n",
    "print(bacd.is_invariant())"
   ]
  },
  {
   "cell_type": "markdown",
   "metadata": {},
   "source": [
    "To make sure that the descriptors are indeed equivariant (invariant with respect to translation, rotation and substitution), here is a test."
   ]
  },
  {
   "attachments": {},
   "cell_type": "markdown",
   "metadata": {},
   "source": [
    "## Generation of machine learning datasets\n",
    "\n",
    "If you need to featurize materials in bulk, here is an example of how to do that. The code extracts perovskite materials from the Materials Project database via an API request. Note: the API key is hidden."
   ]
  },
  {
   "cell_type": "code",
   "execution_count": null,
   "metadata": {},
   "outputs": [],
   "source": [
    "import requests\n",
    "from oganesson.descriptors import Describe, BACD\n",
    "from oganesson.ogstructure import OgStructure\n",
    "from pymatgen.core.structure import Structure\n",
    "import pandas as pd\n",
    "\n",
    "headers = {\n",
    "    'accept': 'application/json',\n",
    "    'X-API-KEY': 'iGRUQOIQAcPMw00QWQKIEegfhF8O7Gmm'\n",
    "}\n",
    "materials_summary = requests.get('https://api.materialsproject.org/materials/summary/?formula=ABO3&deprecated=false&_per_page=1000&_skip=0&_limit=1000&_all_fields=true&is_stable=true', headers=headers)\n",
    "materials_summary = materials_summary.json()['data']\n",
    "datasets = {'material_ids':[],'structures':[],'bacd':[],'formation_energy_per_atom':[]}\n",
    "for material in materials_summary:\n",
    "    structure = OgStructure(Structure.from_dict(material['structure']))\n",
    "    datasets['material_ids'] += [material['material_id']]\n",
    "    datasets['structures'] += [structure]\n",
    "    datasets['bacd'] += [Describe.describe(structure,descriptor=BACD)]\n",
    "    datasets['formation_energy_per_atom'] += [material['formation_energy_per_atom']]\n"
   ]
  },
  {
   "cell_type": "markdown",
   "metadata": {},
   "source": [
    "We can now use the dataset to train an `Xgboost` ML model to predict the formation energy per atom (the only target quantity we have extracted above). The following code demonstrates how to perform such training using the `joltml` package. You will notice that with such a limited dataset, the prediction results are pretty good. The results are logged in the `jolt_lab` folder."
   ]
  },
  {
   "cell_type": "code",
   "execution_count": null,
   "metadata": {},
   "outputs": [],
   "source": [
    "\n",
    "from joltml import Experiment, Xgboost\n",
    "\n",
    "training_set = pd.DataFrame(datasets['bacd'])\n",
    "experiment = Experiment(training_set.iloc[:800],experiment_id='bacd')\n",
    "y = experiment.add_models([Xgboost()]).regression(targets=pd.DataFrame(datasets['formation_energy_per_atom'][:800]), splits=[0.8,0.2]).predict(training_set.iloc[800:])"
   ]
  },
  {
   "attachments": {},
   "cell_type": "markdown",
   "metadata": {},
   "source": [
    "# Performing AIMD simulations\n",
    "\n",
    "Here we subject a lithium-rich material, Li3PO4, to a temperature of 1000 K, and then calculate the diffusivities of the three elements. `m3gnet` is applied as the ML structure optimizer, and is currently not reliable for AIMD simulations. More work is currently being done to build better ML optimizers.\n",
    "\n",
    "The following example performs 1000 steps AIMD simulation with LGPS, and then computes the diffusivity of the elements using the `diffusivity` package."
   ]
  },
  {
   "cell_type": "code",
   "execution_count": null,
   "metadata": {},
   "outputs": [],
   "source": [
    "from oganesson.ogstructure import OgStructure\n",
    "structure = OgStructure(file_name='examples/structures/LGPS_ChemMater_2018_30_4995_Opt.cif')\n",
    "structure.simulate(temperature=1000,steps=1000,loginterval=1)\n",
    "coeffs = structure.calculate_diffusivity()\n",
    "print('Diffusion coefficients:', coeffs)"
   ]
  },
  {
   "attachments": {},
   "cell_type": "markdown",
   "metadata": {},
   "source": [
    "# Genetic algorithms\n",
    "\n",
    "Using `m3gnet` as a structure optimizer as well as a calculator for the fitness function (which is the value of the optimized total energy of a structure), `oganesson` generates structure populations based on the `ase.ga` library. The following examples shows how the equilibrium structure of NaH can be found. All what is needed is: identify the number of species, create a `GA` object, and call `evolve()`.\n",
    "\n",
    "First, we create the initial population. Note, this will not relax any structure yet."
   ]
  },
  {
   "cell_type": "code",
   "execution_count": null,
   "metadata": {},
   "outputs": [],
   "source": [
    "from oganesson.genetic_algorithms import GA\n",
    "ga = GA(species=['Na']*4 + ['H']*4, rmax=20, population_size=10)"
   ]
  },
  {
   "cell_type": "markdown",
   "metadata": {},
   "source": [
    "Next, you evolve the population."
   ]
  },
  {
   "cell_type": "code",
   "execution_count": null,
   "metadata": {},
   "outputs": [],
   "source": [
    "for i in range(10):\n",
    "    ga.evolve(num_offsprings=5)"
   ]
  },
  {
   "attachments": {},
   "cell_type": "markdown",
   "metadata": {},
   "source": [
    "You can also create your own random population and evolve it. For example, you can use the `substitutions()` method in `OgStructure` to create candidate alloy materials based a specific mix of elements in a given crystal structure, and then evolve that population."
   ]
  },
  {
   "cell_type": "code",
   "execution_count": null,
   "metadata": {},
   "outputs": [],
   "source": [
    "from oganesson.genetic_algorithms import GA\n",
    "from oganesson.ogstructure import OgStructure\n",
    "from ase.build import bulk\n",
    "\n",
    "Cu = bulk('Cu', 'fcc', a=3.6)\n",
    "structure = OgStructure(Cu.repeat([2,2,2]))\n",
    "print(structure())\n",
    "ga = GA(population=structure.substitutions('Cu',{'Fe':4,'Cu':4}))\n",
    "for i in range(10):\n",
    "    ga.evolve()"
   ]
  }
 ],
 "metadata": {
  "kernelspec": {
   "display_name": "Python 3",
   "language": "python",
   "name": "python3"
  },
  "language_info": {
   "codemirror_mode": {
    "name": "ipython",
    "version": 3
   },
   "file_extension": ".py",
   "mimetype": "text/x-python",
   "name": "python",
   "nbconvert_exporter": "python",
   "pygments_lexer": "ipython3",
   "version": "3.11.9"
  },
  "orig_nbformat": 4
 },
 "nbformat": 4,
 "nbformat_minor": 2
}
